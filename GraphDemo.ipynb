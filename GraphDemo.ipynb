{
 "cells": [
  {
   "cell_type": "code",
   "execution_count": 1,
   "metadata": {},
   "outputs": [],
   "source": [
    "from mip import *\n",
    "import numpy as np\n",
    "import pandas as pd \n",
    "import numpy.random as npr\n",
    "import scipy.special\n",
    "from collections import Counter\n",
    "import sys, string, itertools, copy, time"
   ]
  },
  {
   "cell_type": "code",
   "execution_count": 2,
   "metadata": {},
   "outputs": [],
   "source": [
    "import networkx as nx\n",
    "import seaborn as sns\n",
    "import matplotlib.pyplot as plt\n",
    "import matplotlib as mpl\n",
    "\n",
    "solver_name = \"CBC\" # If you have GRB installed change to GRB would be faster"
   ]
  },
  {
   "cell_type": "markdown",
   "metadata": {
    "tags": []
   },
   "source": [
    "## Toy example as used in Figure 1"
   ]
  },
  {
   "cell_type": "code",
   "execution_count": 3,
   "metadata": {},
   "outputs": [],
   "source": [
    "# Helper functions \n",
    "# Output binary representation of all b choose k\n",
    "def for_all_point_nr(k, b):\n",
    "\t# { (y_1...y_P) \\in {0,1}^P | y_1 + ... + y_P == C, y_i >= 0 }\n",
    "\tdef dfs(now, i, r):\n",
    "\t\tif r == 0:\n",
    "\t\t\tyield now\n",
    "\t\telif i < b:\n",
    "\t\t\tfor x in range( min(2, r+1) ):\n",
    "\t\t\t\tnow[i] = x\n",
    "\t\t\t\tfor tmp in dfs(now, i + 1, r - x):\n",
    "\t\t\t\t\tyield tmp\n",
    "\t\t\tnow[i] = 0\n",
    "\tfor x in dfs([0] * b, 0, k):\n",
    "\t\tyield x\n",
    "\n",
    "# Build a graph where each vertex is a pooling profile (potential donor)\n",
    "# and each edge represents a pair of profiles that cannot co-exist\n",
    "def build_graph(k,b,c):\n",
    "\tVset = []\n",
    "\tid = 0\n",
    "\tfor v in for_all_point_nr(k,b):\n",
    "\t\tVset.append([id, 0, v.copy(),[]])\n",
    "\t\tid += 1\n",
    "\tprint(\"Number of notes %d\" % id)\n",
    "\tfor i in range(1, id):\n",
    "\t\tfor j in range(i):\n",
    "\t\t\tdis = len([x for x in range(b) if Vset[i][2][x] != Vset[j][2][x] ])\n",
    "\t\t\tif dis < c: #\n",
    "\t\t\t\tVset[i][1] += 1; # Number of neighbors to avoid\n",
    "\t\t\t\tVset[i][3].append(j) # Neighbors' id (not safe for co-occurence)\n",
    "\t\t\t\tVset[j][1] += 1;\n",
    "\t\t\t\tVset[j][3].append(i)\n",
    "\treturn Vset"
   ]
  },
  {
   "cell_type": "code",
   "execution_count": 4,
   "metadata": {},
   "outputs": [],
   "source": [
    "N = 20 # Number of individuals (donors)\n",
    "P = 6  # Number of pools \n",
    "C = 3  # Number of experimental conditions \n",
    "colorset = ['#57A3AD', '#DEA73A', '#D92120']"
   ]
  },
  {
   "cell_type": "code",
   "execution_count": 5,
   "metadata": {},
   "outputs": [],
   "source": [
    "# Most compact design \n",
    "f = \"./example/N20_P6_C3_m2.design\"\n",
    "with open(f, 'r') as rf:\n",
    "    lines = rf.readlines()\n",
    "code = [x.strip().split(' ') for x in lines]\n",
    "P = len(code)\n",
    "code_mat = []\n",
    "for i in range(P):\n",
    "    code_mat.append([0]*N)\n",
    "    for j in range(N):\n",
    "        if code[i][j] == \".\":\n",
    "            code_mat[i][j] = 0\n",
    "        else:\n",
    "            code_mat[i][j] = ord(code[i][j])-96\n",
    "\n",
    "code_df = pd.DataFrame(code_mat)"
   ]
  },
  {
   "cell_type": "code",
   "execution_count": 6,
   "metadata": {},
   "outputs": [
    {
     "data": {
      "text/plain": [
       "Text(80.5, 0.5, 'Pools')"
      ]
     },
     "execution_count": 6,
     "metadata": {},
     "output_type": "execute_result"
    },
    {
     "data": {
      "image/png": "[encoded data removed]",
      "text/plain": [
       "<Figure size 864x72 with 2 Axes>"
      ]
     },
     "metadata": {},
     "output_type": "display_data"
    }
   ],
   "source": [
    "sns.set(font_scale=1.4)\n",
    "plt.figure(figsize=(12,1))\n",
    "ax = sns.heatmap(code_df, cmap=['#000000']+colorset)\n",
    "ax.set_yticklabels(ax.get_yticklabels(),rotation=0)\n",
    "plt.xlabel('Individuals')\n",
    "plt.ylabel('Pools')"
   ]
  },
  {
   "cell_type": "code",
   "execution_count": 7,
   "metadata": {},
   "outputs": [
    {
     "name": "stdout",
     "output_type": "stream",
     "text": [
      "Spectrum of pairwise overlaps:\n",
      "0:10\t1:90\t2:90\n",
      "Total pairwise overlaps: 270\n"
     ]
    }
   ],
   "source": [
    "arr = (np.array(code_mat) > 0).astype(int)\n",
    "overlap = np.dot(arr.transpose(),arr)\n",
    "ovec = overlap[np.triu_indices(N, 1)].reshape(-1,1).squeeze()\n",
    "ct = Counter(ovec)\n",
    "tab = [0] * C\n",
    "for k,v in ct.items():\n",
    "    tab[k] = v\n",
    "\n",
    "print(f\"Spectrum of pairwise overlaps:\")\n",
    "out = [\"%d:%d\" % (i,x) for i,x in enumerate(tab)]\n",
    "print('\\t'.join(out))\n",
    "print(f\"Total pairwise overlaps: {ovec.sum()}\")"
   ]
  },
  {
   "cell_type": "code",
   "execution_count": null,
   "metadata": {},
   "outputs": [],
   "source": []
  },
  {
   "cell_type": "code",
   "execution_count": 8,
   "metadata": {
    "tags": []
   },
   "outputs": [],
   "source": [
    "# Robust design \n",
    "f = \"./example/N20_P12_C3_m4.design\"\n",
    "with open(f, 'r') as rf:\n",
    "    lines = rf.readlines()\n",
    "code = [x.strip().split(' ') for x in lines]\n",
    "P = len(code)\n",
    "code_mat = []\n",
    "for i in range(P):\n",
    "    code_mat.append([0]*N)\n",
    "    for j in range(N):\n",
    "        if code[i][j] == \".\":\n",
    "            code_mat[i][j] = 0\n",
    "        else:\n",
    "            code_mat[i][j] = ord(code[i][j])-96\n",
    "\n",
    "code_df = pd.DataFrame(code_mat)"
   ]
  },
  {
   "cell_type": "code",
   "execution_count": 9,
   "metadata": {},
   "outputs": [
    {
     "data": {
      "text/plain": [
       "Text(80.5, 0.5, 'Pools')"
      ]
     },
     "execution_count": 9,
     "metadata": {},
     "output_type": "execute_result"
    },
    {
     "data": {
      "image/png": "[encoded data removed]",
      "text/plain": [
       "<Figure size 864x144 with 2 Axes>"
      ]
     },
     "metadata": {},
     "output_type": "display_data"
    }
   ],
   "source": [
    "sns.set(font_scale=1.4)\n",
    "plt.figure(figsize=(12,2))\n",
    "ax = sns.heatmap(code_df, cmap=['#000000']+colorset)\n",
    "ax.set_yticklabels(ax.get_yticklabels(),rotation=0)\n",
    "plt.xlabel('Individuals')\n",
    "plt.ylabel('Pools')"
   ]
  },
  {
   "cell_type": "code",
   "execution_count": 10,
   "metadata": {},
   "outputs": [
    {
     "name": "stdout",
     "output_type": "stream",
     "text": [
      "Spectrum of pairwise overlaps:\n",
      "0:70\t1:120\t2:0\n",
      "Total pairwise overlaps: 120\n"
     ]
    }
   ],
   "source": [
    "arr = (np.array(code_mat) > 0).astype(int)\n",
    "overlap = np.dot(arr.transpose(),arr)\n",
    "ovec = overlap[np.triu_indices(N, 1)].reshape(-1,1).squeeze()\n",
    "ct = Counter(ovec)\n",
    "tab = [0] * C\n",
    "for k,v in ct.items():\n",
    "    tab[k] = v\n",
    "\n",
    "print(f\"Spectrum of pairwise overlaps:\")\n",
    "out = [\"%d:%d\" % (i,x) for i,x in enumerate(tab)]\n",
    "print('\\t'.join(out))\n",
    "print(f\"Total pairwise overlaps: {ovec.sum()}\")"
   ]
  },
  {
   "cell_type": "code",
   "execution_count": null,
   "metadata": {},
   "outputs": [],
   "source": []
  },
  {
   "cell_type": "code",
   "execution_count": 11,
   "metadata": {},
   "outputs": [],
   "source": [
    "# code_mat = []\n",
    "# for i in range(N*C):\n",
    "#     code_mat.append([0]*N)\n",
    "# for i in range(C):\n",
    "#     for j in range(N):\n",
    "#         code_mat[i*N+j][j] = i+1\n",
    "\n",
    "# code_df = pd.DataFrame(code_mat)\n",
    "# sns.set(font_scale=1.4)\n",
    "# plt.figure(figsize=(12,10))\n",
    "# ax = sns.heatmap(code_df, cmap=['#000000']+colorset)\n",
    "# ax.set_yticklabels(ax.get_yticklabels(),rotation=0)\n",
    "# plt.xlabel('Individuals')\n",
    "# plt.ylabel('Pools')"
   ]
  },
  {
   "cell_type": "code",
   "execution_count": null,
   "metadata": {},
   "outputs": [],
   "source": []
  },
  {
   "cell_type": "code",
   "execution_count": null,
   "metadata": {},
   "outputs": [],
   "source": []
  },
  {
   "cell_type": "markdown",
   "metadata": {},
   "source": [
    "## The graph used to illustrate the robustness formulation in Figure S1"
   ]
  },
  {
   "cell_type": "code",
   "execution_count": 12,
   "metadata": {},
   "outputs": [],
   "source": [
    "P = 6  # Number of pools \n",
    "C = 3  # Number of experimental conditions \n",
    "m = 4  # Minimum pairwise difference between the pool assignments of donors\n",
    "max_threads = 1\n",
    "max_sec = 300\n",
    "code_length = 1\n",
    "letters = list(string.ascii_letters)\n",
    "ccode = letters"
   ]
  },
  {
   "cell_type": "code",
   "execution_count": 13,
   "metadata": {},
   "outputs": [
    {
     "name": "stdout",
     "output_type": "stream",
     "text": [
      "Number of notes 20\n"
     ]
    }
   ],
   "source": [
    "tot = int(scipy.special.comb(P, C))\n",
    "Vset = build_graph(C,P,m)\n",
    "N = len(Vset)\n",
    "ilp = Model(solver_name=solver_name)\n",
    "ilp.verbose = 0\n",
    "ilp.threads = max_threads\n",
    "x = [ ilp.add_var(var_type=BINARY) for i in range(N) ]\n",
    "for i in range(N):\n",
    "    for j in Vset[i][3]:\n",
    "        if j < i:\n",
    "            ilp += xsum( [x[i], x[j] ] ) <= 1\n",
    "ilp.objective = maximize(xsum( x[i] for i in range(N) ) )\n",
    "status = ilp.optimize()\n",
    "n_sol = ilp.num_solutions\n",
    "candidates = [Vset[i][2] for i,x in enumerate(ilp.vars) if x.xi(0) == 1. ]\n",
    "N = len(candidates)"
   ]
  },
  {
   "cell_type": "code",
   "execution_count": 14,
   "metadata": {},
   "outputs": [],
   "source": [
    "code_mat = [ Vset[i][2] for i in range(len(Vset)) ]\n",
    "code_df = pd.DataFrame(np.transpose(code_mat))\n",
    "\n",
    "edgelist = [ [ (x[0], y) for y in x[3] ] for x in Vset ]\n",
    "edgelist = [ y for x in edgelist for y in x ]"
   ]
  },
  {
   "cell_type": "code",
   "execution_count": null,
   "metadata": {},
   "outputs": [],
   "source": []
  },
  {
   "cell_type": "code",
   "execution_count": 15,
   "metadata": {},
   "outputs": [],
   "source": [
    "V = len(Vset)\n",
    "G = nx.Graph()\n",
    "G.add_node(range(V))\n",
    "G.add_edges_from(edgelist)\n",
    "pos = nx.spring_layout(G)"
   ]
  },
  {
   "cell_type": "code",
   "execution_count": 16,
   "metadata": {},
   "outputs": [],
   "source": [
    "MIS = set([Vset[i][0] for i,x in enumerate(ilp.vars) if x.xi(0) == 1. ])\n",
    "other = [ i for i in range(V) if i not in MIS ]\n",
    "label = [ 1 if x in MIS else 2 for x in range(len(Vset)) ]"
   ]
  },
  {
   "cell_type": "code",
   "execution_count": 17,
   "metadata": {},
   "outputs": [
    {
     "data": {
      "text/plain": [
       "<matplotlib.collections.LineCollection at 0x7f89f21bb970>"
      ]
     },
     "execution_count": 17,
     "metadata": {},
     "output_type": "execute_result"
    },
    {
     "data": {
      "image/png": "[encoded data removed]",
      "text/plain": [
       "<Figure size 432x288 with 1 Axes>"
      ]
     },
     "metadata": {},
     "output_type": "display_data"
    }
   ],
   "source": [
    "mpl.rcParams[\"axes.facecolor\"] = 'white'\n",
    "nx.draw_networkx_nodes(G, pos,\n",
    "                       nodelist=other,\n",
    "                       node_color='k',\n",
    "                       node_size=50,\n",
    "                       alpha=0.5)\n",
    "nx.draw_networkx_nodes(G, pos,\n",
    "                       nodelist=MIS,\n",
    "                       node_color='r',\n",
    "                       node_size=100,\n",
    "                       alpha=1)\n",
    "nx.draw_networkx_edges(G, pos, width=0.5, alpha=0.5)"
   ]
  },
  {
   "cell_type": "code",
   "execution_count": null,
   "metadata": {},
   "outputs": [],
   "source": []
  },
  {
   "cell_type": "markdown",
   "metadata": {},
   "source": [
    "## Robustness comparison in the 64 individual case"
   ]
  },
  {
   "cell_type": "markdown",
   "metadata": {},
   "source": [
    "The logarithmic design"
   ]
  },
  {
   "cell_type": "code",
   "execution_count": 18,
   "metadata": {},
   "outputs": [],
   "source": [
    "N = 64 # number of individuals\n",
    "C = 6  # Conditions \n",
    "# Logarithmic\n",
    "code_mat = []\n",
    "for n in range(N):\n",
    "    ind_code = ('{0:0%sb}' % int(np.log2(N))).format(n)\n",
    "    ls_code = [int(x) for x in str(ind_code)]\n",
    "    # complementary (orthogonal vector)\n",
    "    ls_code.extend([(x-1)**2 for x in ls_code])\n",
    "    code_mat.append(ls_code)\n",
    "code_df = pd.DataFrame(np.transpose(code_mat))"
   ]
  },
  {
   "cell_type": "code",
   "execution_count": 19,
   "metadata": {},
   "outputs": [
    {
     "name": "stdout",
     "output_type": "stream",
     "text": [
      "Spectrum of pairwise overlaps:\n",
      "0:32\t1:192\t2:480\t3:640\t4:480\t5:192\n",
      "Total pairwise overlaps: 5952\n"
     ]
    }
   ],
   "source": [
    "arr = (np.array(code_mat) > 0).astype(int).T\n",
    "overlap = np.dot(arr.transpose(),arr)\n",
    "ovec = overlap[np.triu_indices(N, 1)].reshape(-1,1).squeeze()\n",
    "ct = Counter(ovec)\n",
    "tab = [0] * C\n",
    "for k,v in ct.items():\n",
    "    tab[k] = v\n",
    "\n",
    "print(f\"Spectrum of pairwise overlaps:\")\n",
    "out = [\"%d:%d\" % (i,x) for i,x in enumerate(tab)]\n",
    "print('\\t'.join(out))\n",
    "print(f\"Total pairwise overlaps: {ovec.sum()}\")"
   ]
  },
  {
   "cell_type": "markdown",
   "metadata": {},
   "source": [
    "Pairs of donors that co-exist in 5 pools are most likely to be mistaken"
   ]
  },
  {
   "cell_type": "code",
   "execution_count": null,
   "metadata": {},
   "outputs": [],
   "source": []
  },
  {
   "cell_type": "markdown",
   "metadata": {},
   "source": [
    "The most efficient design"
   ]
  },
  {
   "cell_type": "code",
   "execution_count": 20,
   "metadata": {},
   "outputs": [],
   "source": [
    "P=9\n",
    "f = \"./example/N64_P9_C6_m2.design\"\n",
    "with open(f, 'r') as rf:\n",
    "    lines = rf.readlines()\n",
    "code = [x.strip().split(' ') for x in lines]    \n",
    "code_mat = []\n",
    "for i in range(P):\n",
    "    code_mat.append([0]*N)\n",
    "    for j in range(N):\n",
    "        if code[i][j] == \".\":\n",
    "            code_mat[i][j] = 0\n",
    "        else:\n",
    "            code_mat[i][j] = 1"
   ]
  },
  {
   "cell_type": "code",
   "execution_count": 21,
   "metadata": {},
   "outputs": [
    {
     "name": "stdout",
     "output_type": "stream",
     "text": [
      "Spectrum of pairwise overlaps:\n",
      "0:0\t1:0\t2:0\t3:482\t4:1114\t5:420\n",
      "Total pairwise overlaps: 8002\n"
     ]
    }
   ],
   "source": [
    "arr = (np.array(code_mat) > 0).astype(int)\n",
    "overlap = np.dot(arr.transpose(),arr)\n",
    "ovec = overlap[np.triu_indices(N, 1)].reshape(-1,1).squeeze()\n",
    "ct = Counter(ovec)\n",
    "tab = [0] * C\n",
    "for k,v in ct.items():\n",
    "    tab[k] = v\n",
    "\n",
    "print(f\"Spectrum of pairwise overlaps:\")\n",
    "out = [\"%d:%d\" % (i,x) for i,x in enumerate(tab)]\n",
    "print('\\t'.join(out))\n",
    "print(f\"Total pairwise overlaps: {ovec.sum()}\")"
   ]
  },
  {
   "cell_type": "code",
   "execution_count": null,
   "metadata": {},
   "outputs": [],
   "source": []
  },
  {
   "cell_type": "markdown",
   "metadata": {},
   "source": [
    "The most efficient design achieving higher robustness: all pairs of donors differ by at least 4 pools"
   ]
  },
  {
   "cell_type": "code",
   "execution_count": 22,
   "metadata": {},
   "outputs": [],
   "source": [
    "P=11\n",
    "f = \"./example/N64_P11_C6_m4.design\"\n",
    "with open(f, 'r') as rf:\n",
    "    lines = rf.readlines()\n",
    "code = [x.strip().split(' ') for x in lines]    \n",
    "code_mat = []\n",
    "for i in range(P):\n",
    "    code_mat.append([0]*N)\n",
    "    for j in range(N):\n",
    "        if code[i][j] == \".\":\n",
    "            code_mat[i][j] = 0\n",
    "        else:\n",
    "            code_mat[i][j] = 1"
   ]
  },
  {
   "cell_type": "code",
   "execution_count": 23,
   "metadata": {},
   "outputs": [
    {
     "name": "stdout",
     "output_type": "stream",
     "text": [
      "Spectrum of pairwise overlaps:\n",
      "0:0\t1:0\t2:465\t3:621\t4:930\t5:0\n",
      "Total pairwise overlaps: 6513\n"
     ]
    }
   ],
   "source": [
    "arr = (np.array(code_mat) > 0).astype(int)\n",
    "overlap = np.dot(arr.transpose(),arr)\n",
    "ovec = overlap[np.triu_indices(N, 1)].reshape(-1,1).squeeze()\n",
    "ct = Counter(ovec)\n",
    "tab = [0] * C\n",
    "for k,v in ct.items():\n",
    "    tab[k] = v\n",
    "\n",
    "print(f\"Spectrum of pairwise overlaps:\")\n",
    "out = [\"%d:%d\" % (i,x) for i,x in enumerate(tab)]\n",
    "print('\\t'.join(out))\n",
    "print(f\"Total pairwise overlaps: {ovec.sum()}\")"
   ]
  },
  {
   "cell_type": "markdown",
   "metadata": {},
   "source": [
    "Note that none of the pairs co-exist in 5 pools"
   ]
  },
  {
   "cell_type": "code",
   "execution_count": null,
   "metadata": {},
   "outputs": [],
   "source": []
  },
  {
   "cell_type": "code",
   "execution_count": null,
   "metadata": {},
   "outputs": [],
   "source": []
  },
  {
   "cell_type": "code",
   "execution_count": null,
   "metadata": {},
   "outputs": [],
   "source": []
  },
  {
   "cell_type": "code",
   "execution_count": null,
   "metadata": {},
   "outputs": [],
   "source": []
  }
 ],
 "metadata": {
  "kernelspec": {
   "display_name": "Python [conda env:root]",
   "language": "python",
   "name": "conda-root-py"
  },
  "language_info": {
   "codemirror_mode": {
    "name": "ipython",
    "version": 3
   },
   "file_extension": ".py",
   "mimetype": "text/x-python",
   "name": "python",
   "nbconvert_exporter": "python",
   "pygments_lexer": "ipython3",
   "version": "3.9.10"
  }
 },
 "nbformat": 4,
 "nbformat_minor": 4
}
